{
 "cells": [
  {
   "cell_type": "code",
   "execution_count": 1,
   "id": "dc8c21b6",
   "metadata": {},
   "outputs": [
    {
     "name": "stdout",
     "output_type": "stream",
     "text": [
      "Collecting quandl\n",
      "  Downloading Quandl-3.7.0-py2.py3-none-any.whl (26 kB)\n",
      "Requirement already satisfied: inflection>=0.3.1 in c:\\programdata\\anaconda3\\lib\\site-packages (from quandl) (0.5.1)\n",
      "Requirement already satisfied: requests>=2.7.0 in c:\\programdata\\anaconda3\\lib\\site-packages (from quandl) (2.26.0)\n",
      "Requirement already satisfied: six in c:\\programdata\\anaconda3\\lib\\site-packages (from quandl) (1.16.0)\n",
      "Requirement already satisfied: more-itertools in c:\\programdata\\anaconda3\\lib\\site-packages (from quandl) (8.10.0)\n",
      "Requirement already satisfied: python-dateutil in c:\\programdata\\anaconda3\\lib\\site-packages (from quandl) (2.8.2)\n",
      "Requirement already satisfied: numpy>=1.8 in c:\\programdata\\anaconda3\\lib\\site-packages (from quandl) (1.20.3)\n",
      "Requirement already satisfied: pandas>=0.14 in c:\\programdata\\anaconda3\\lib\\site-packages (from quandl) (1.3.4)\n",
      "Requirement already satisfied: pytz>=2017.3 in c:\\programdata\\anaconda3\\lib\\site-packages (from pandas>=0.14->quandl) (2021.3)\n",
      "Requirement already satisfied: certifi>=2017.4.17 in c:\\programdata\\anaconda3\\lib\\site-packages (from requests>=2.7.0->quandl) (2021.10.8)\n",
      "Requirement already satisfied: charset-normalizer~=2.0.0 in c:\\programdata\\anaconda3\\lib\\site-packages (from requests>=2.7.0->quandl) (2.0.4)\n",
      "Requirement already satisfied: urllib3<1.27,>=1.21.1 in c:\\programdata\\anaconda3\\lib\\site-packages (from requests>=2.7.0->quandl) (1.26.7)\n",
      "Requirement already satisfied: idna<4,>=2.5 in c:\\programdata\\anaconda3\\lib\\site-packages (from requests>=2.7.0->quandl) (3.2)\n",
      "Installing collected packages: quandl\n",
      "Successfully installed quandl-3.7.0\n"
     ]
    }
   ],
   "source": [
    "!pip install quandl"
   ]
  },
  {
   "cell_type": "code",
   "execution_count": null,
   "id": "ddcacdda",
   "metadata": {},
   "outputs": [],
   "source": []
  }
 ],
 "metadata": {
  "kernelspec": {
   "display_name": "Python 3 (ipykernel)",
   "language": "python",
   "name": "python3"
  },
  "language_info": {
   "codemirror_mode": {
    "name": "ipython",
    "version": 3
   },
   "file_extension": ".py",
   "mimetype": "text/x-python",
   "name": "python",
   "nbconvert_exporter": "python",
   "pygments_lexer": "ipython3",
   "version": "3.9.7"
  }
 },
 "nbformat": 4,
 "nbformat_minor": 5
}
