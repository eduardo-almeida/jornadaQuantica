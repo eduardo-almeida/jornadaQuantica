{
 "cells": [
  {
   "cell_type": "code",
   "execution_count": 1,
   "id": "9c5d94d2",
   "metadata": {},
   "outputs": [
    {
     "name": "stdout",
     "output_type": "stream",
     "text": [
      "Collecting animeface\n",
      "  Using cached animeface-1.1.0.tar.gz (2.8 MB)\n",
      "Requirement already satisfied: pillow in c:\\programdata\\anaconda3\\lib\\site-packages (from animeface) (8.4.0)\n",
      "Building wheels for collected packages: animeface\n",
      "  Building wheel for animeface (setup.py): started\n",
      "  Building wheel for animeface (setup.py): finished with status 'error'\n",
      "  Running setup.py clean for animeface\n",
      "Failed to build animeface\n",
      "Installing collected packages: animeface\n",
      "    Running setup.py install for animeface: started\n",
      "    Running setup.py install for animeface: finished with status 'error'\n"
     ]
    },
    {
     "name": "stderr",
     "output_type": "stream",
     "text": [
      "  ERROR: Command errored out with exit status 1:\n",
      "   command: 'C:\\ProgramData\\Anaconda3\\python.exe' -u -c 'import io, os, sys, setuptools, tokenize; sys.argv[0] = '\"'\"'C:\\\\Users\\\\Eduardo\\\\AppData\\\\Local\\\\Temp\\\\pip-install-ycps8b4d\\\\animeface_6e89db1979064423ab196cd1e89d311c\\\\setup.py'\"'\"'; __file__='\"'\"'C:\\\\Users\\\\Eduardo\\\\AppData\\\\Local\\\\Temp\\\\pip-install-ycps8b4d\\\\animeface_6e89db1979064423ab196cd1e89d311c\\\\setup.py'\"'\"';f = getattr(tokenize, '\"'\"'open'\"'\"', open)(__file__) if os.path.exists(__file__) else io.StringIO('\"'\"'from setuptools import setup; setup()'\"'\"');code = f.read().replace('\"'\"'\\r\\n'\"'\"', '\"'\"'\\n'\"'\"');f.close();exec(compile(code, __file__, '\"'\"'exec'\"'\"'))' bdist_wheel -d 'C:\\Users\\Eduardo\\AppData\\Local\\Temp\\pip-wheel-bzxzrjzo'\n",
      "       cwd: C:\\Users\\Eduardo\\AppData\\Local\\Temp\\pip-install-ycps8b4d\\animeface_6e89db1979064423ab196cd1e89d311c\\\n",
      "  Complete output (16 lines):\n",
      "  running bdist_wheel\n",
      "  running build\n",
      "  running build_py\n",
      "  creating build\n",
      "  creating build\\lib.win-amd64-3.9\n",
      "  creating build\\lib.win-amd64-3.9\\animeface\n",
      "  copying animeface\\__init__.py -> build\\lib.win-amd64-3.9\\animeface\n",
      "  running build_ext\n",
      "  building 'animeface._nvxs' extension\n",
      "  creating build\\temp.win-amd64-3.9\n",
      "  creating build\\temp.win-amd64-3.9\\Release\n",
      "  creating build\\temp.win-amd64-3.9\\Release\\animeface\n",
      "  C:\\Program Files (x86)\\Microsoft Visual Studio\\2019\\Community\\VC\\Tools\\MSVC\\14.29.30133\\bin\\HostX86\\x64\\cl.exe /c /nologo /Ox /W3 /GL /DNDEBUG /MD -Ithird_party/Pillow-4.2.1/libImaging -Ithird_party/nvxs-1.0.2/nv_core -Ithird_party/nvxs-1.0.2/nv_ip -Ithird_party/nvxs-1.0.2/nv_ml -Ithird_party/nvxs-1.0.2/nv_face -Ithird_party/nvxs-1.0.2/nv_num -IC:\\ProgramData\\Anaconda3\\include -IC:\\ProgramData\\Anaconda3\\include -IC:\\Program Files (x86)\\Microsoft Visual Studio\\2019\\Community\\VC\\Tools\\MSVC\\14.29.30133\\include /Tcanimeface/_nvxs.c /Fobuild\\temp.win-amd64-3.9\\Release\\animeface/_nvxs.obj\n",
      "  _nvxs.c\n",
      "  C:\\ProgramData\\Anaconda3\\include\\pyconfig.h(59): fatal error C1083: NÆo ‚ poss¡vel abrir arquivo incluir: 'io.h': No such file or directory\n",
      "  error: command 'C:\\\\Program Files (x86)\\\\Microsoft Visual Studio\\\\2019\\\\Community\\\\VC\\\\Tools\\\\MSVC\\\\14.29.30133\\\\bin\\\\HostX86\\\\x64\\\\cl.exe' failed with exit code 2\n",
      "  ----------------------------------------\n",
      "  ERROR: Failed building wheel for animeface\n",
      "    ERROR: Command errored out with exit status 1:\n",
      "     command: 'C:\\ProgramData\\Anaconda3\\python.exe' -u -c 'import io, os, sys, setuptools, tokenize; sys.argv[0] = '\"'\"'C:\\\\Users\\\\Eduardo\\\\AppData\\\\Local\\\\Temp\\\\pip-install-ycps8b4d\\\\animeface_6e89db1979064423ab196cd1e89d311c\\\\setup.py'\"'\"'; __file__='\"'\"'C:\\\\Users\\\\Eduardo\\\\AppData\\\\Local\\\\Temp\\\\pip-install-ycps8b4d\\\\animeface_6e89db1979064423ab196cd1e89d311c\\\\setup.py'\"'\"';f = getattr(tokenize, '\"'\"'open'\"'\"', open)(__file__) if os.path.exists(__file__) else io.StringIO('\"'\"'from setuptools import setup; setup()'\"'\"');code = f.read().replace('\"'\"'\\r\\n'\"'\"', '\"'\"'\\n'\"'\"');f.close();exec(compile(code, __file__, '\"'\"'exec'\"'\"'))' install --record 'C:\\Users\\Eduardo\\AppData\\Local\\Temp\\pip-record-sp_kkeid\\install-record.txt' --single-version-externally-managed --compile --install-headers 'C:\\ProgramData\\Anaconda3\\Include\\animeface'\n",
      "         cwd: C:\\Users\\Eduardo\\AppData\\Local\\Temp\\pip-install-ycps8b4d\\animeface_6e89db1979064423ab196cd1e89d311c\\\n",
      "    Complete output (16 lines):\n",
      "    running install\n",
      "    running build\n",
      "    running build_py\n",
      "    creating build\n",
      "    creating build\\lib.win-amd64-3.9\n",
      "    creating build\\lib.win-amd64-3.9\\animeface\n",
      "    copying animeface\\__init__.py -> build\\lib.win-amd64-3.9\\animeface\n",
      "    running build_ext\n",
      "    building 'animeface._nvxs' extension\n",
      "    creating build\\temp.win-amd64-3.9\n",
      "    creating build\\temp.win-amd64-3.9\\Release\n",
      "    creating build\\temp.win-amd64-3.9\\Release\\animeface\n",
      "    C:\\Program Files (x86)\\Microsoft Visual Studio\\2019\\Community\\VC\\Tools\\MSVC\\14.29.30133\\bin\\HostX86\\x64\\cl.exe /c /nologo /Ox /W3 /GL /DNDEBUG /MD -Ithird_party/Pillow-4.2.1/libImaging -Ithird_party/nvxs-1.0.2/nv_core -Ithird_party/nvxs-1.0.2/nv_ip -Ithird_party/nvxs-1.0.2/nv_ml -Ithird_party/nvxs-1.0.2/nv_face -Ithird_party/nvxs-1.0.2/nv_num -IC:\\ProgramData\\Anaconda3\\include -IC:\\ProgramData\\Anaconda3\\include -IC:\\Program Files (x86)\\Microsoft Visual Studio\\2019\\Community\\VC\\Tools\\MSVC\\14.29.30133\\include /Tcanimeface/_nvxs.c /Fobuild\\temp.win-amd64-3.9\\Release\\animeface/_nvxs.obj\n",
      "    _nvxs.c\n",
      "    C:\\ProgramData\\Anaconda3\\include\\pyconfig.h(59): fatal error C1083: NÆo ‚ poss¡vel abrir arquivo incluir: 'io.h': No such file or directory\n",
      "    error: command 'C:\\\\Program Files (x86)\\\\Microsoft Visual Studio\\\\2019\\\\Community\\\\VC\\\\Tools\\\\MSVC\\\\14.29.30133\\\\bin\\\\HostX86\\\\x64\\\\cl.exe' failed with exit code 2\n",
      "    ----------------------------------------\n",
      "ERROR: Command errored out with exit status 1: 'C:\\ProgramData\\Anaconda3\\python.exe' -u -c 'import io, os, sys, setuptools, tokenize; sys.argv[0] = '\"'\"'C:\\\\Users\\\\Eduardo\\\\AppData\\\\Local\\\\Temp\\\\pip-install-ycps8b4d\\\\animeface_6e89db1979064423ab196cd1e89d311c\\\\setup.py'\"'\"'; __file__='\"'\"'C:\\\\Users\\\\Eduardo\\\\AppData\\\\Local\\\\Temp\\\\pip-install-ycps8b4d\\\\animeface_6e89db1979064423ab196cd1e89d311c\\\\setup.py'\"'\"';f = getattr(tokenize, '\"'\"'open'\"'\"', open)(__file__) if os.path.exists(__file__) else io.StringIO('\"'\"'from setuptools import setup; setup()'\"'\"');code = f.read().replace('\"'\"'\\r\\n'\"'\"', '\"'\"'\\n'\"'\"');f.close();exec(compile(code, __file__, '\"'\"'exec'\"'\"'))' install --record 'C:\\Users\\Eduardo\\AppData\\Local\\Temp\\pip-record-sp_kkeid\\install-record.txt' --single-version-externally-managed --compile --install-headers 'C:\\ProgramData\\Anaconda3\\Include\\animeface' Check the logs for full command output.\n"
     ]
    }
   ],
   "source": [
    "!pip install animeface"
   ]
  },
  {
   "cell_type": "code",
   "execution_count": 4,
   "id": "396c4daa",
   "metadata": {},
   "outputs": [
    {
     "ename": "ModuleNotFoundError",
     "evalue": "No module named 'animeface'",
     "output_type": "error",
     "traceback": [
      "\u001b[1;31m---------------------------------------------------------------------------\u001b[0m",
      "\u001b[1;31mModuleNotFoundError\u001b[0m                       Traceback (most recent call last)",
      "\u001b[1;32m~\\AppData\\Local\\Temp/ipykernel_6976/177483223.py\u001b[0m in \u001b[0;36m<module>\u001b[1;34m\u001b[0m\n\u001b[0;32m      2\u001b[0m \u001b[1;32mimport\u001b[0m \u001b[0mos\u001b[0m\u001b[1;33m\u001b[0m\u001b[1;33m\u001b[0m\u001b[0m\n\u001b[0;32m      3\u001b[0m \u001b[1;33m\u001b[0m\u001b[0m\n\u001b[1;32m----> 4\u001b[1;33m \u001b[1;32mimport\u001b[0m \u001b[0manimeface\u001b[0m\u001b[1;33m\u001b[0m\u001b[1;33m\u001b[0m\u001b[0m\n\u001b[0m\u001b[0;32m      5\u001b[0m \u001b[1;32mfrom\u001b[0m \u001b[0mPIL\u001b[0m \u001b[1;32mimport\u001b[0m \u001b[0mImage\u001b[0m\u001b[1;33m\u001b[0m\u001b[1;33m\u001b[0m\u001b[0m\n",
      "\u001b[1;31mModuleNotFoundError\u001b[0m: No module named 'animeface'"
     ]
    }
   ],
   "source": [
    "import glob\n",
    "import os\n",
    "\n",
    "import animeface\n",
    "from PIL import Image"
   ]
  },
  {
   "cell_type": "code",
   "execution_count": null,
   "id": "9aef8657",
   "metadata": {},
   "outputs": [],
   "source": []
  }
 ],
 "metadata": {
  "kernelspec": {
   "display_name": "Python 3 (ipykernel)",
   "language": "python",
   "name": "python3"
  },
  "language_info": {
   "codemirror_mode": {
    "name": "ipython",
    "version": 3
   },
   "file_extension": ".py",
   "mimetype": "text/x-python",
   "name": "python",
   "nbconvert_exporter": "python",
   "pygments_lexer": "ipython3",
   "version": "3.9.7"
  }
 },
 "nbformat": 4,
 "nbformat_minor": 5
}
